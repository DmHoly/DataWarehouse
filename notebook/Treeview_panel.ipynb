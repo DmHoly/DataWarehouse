{
 "cells": [
  {
   "cell_type": "code",
   "execution_count": 6,
   "metadata": {},
   "outputs": [
    {
     "name": "stdout",
     "output_type": "stream",
     "text": [
      "Launching server at http://localhost:52933\n"
     ]
    },
    {
     "data": {
      "text/plain": [
       "<panel.io.server.Server at 0x233c93e09d0>"
      ]
     },
     "execution_count": 6,
     "metadata": {},
     "output_type": "execute_result"
    }
   ],
   "source": [
    "import panel as pn\n",
    "#https://github.com/madeline-scyphers/panel-jstree\n",
    "# Fonction récursive pour convertir le dictionnaire en une liste de chemins\n",
    "def dict_to_paths(d, parent_key=''):\n",
    "    paths = []\n",
    "    for key, value in d.items():\n",
    "        full_key = f\"{parent_key}/{key}\" if parent_key else key\n",
    "        if isinstance(value, dict):\n",
    "            paths.extend(dict_to_paths(value, full_key))\n",
    "        else:\n",
    "            paths.append(f\"{full_key}: {value}\")\n",
    "    return paths\n",
    "\n",
    "# Dictionnaire imbriqué\n",
    "files_arborescence = {\n",
    "    \"Root\": {\n",
    "        \"Level1\": {},\n",
    "        \"Level11\": {\n",
    "            \"Level12\": {\n",
    "                \"Level21\": {\"value\": \"file1.txt\"},\n",
    "                \"Level22\": {\"value\": \"file2.txt\"},\n",
    "            },\n",
    "            \"Level12\": {\n",
    "                \"Level21\": {\"value\": \"file1.txt\"},\n",
    "                \"Level22\": {\"value\": \"file2.txt\"},\n",
    "            }\n",
    "        }\n",
    "    }\n",
    "}\n",
    "\n",
    "# Convertir le dictionnaire en chemins\n",
    "paths = dict_to_paths(files_arborescence)\n",
    "\n",
    "# Initialiser le widget CheckBoxGroup\n",
    "tree_view = pn.widgets.CheckBoxGroup(name='File Tree', options=paths)\n",
    "\n",
    "# Afficher le widget dans un panneau\n",
    "app = pn.Column(tree_view).servable()\n",
    "app.show()"
   ]
  },
  {
   "cell_type": "code",
   "execution_count": null,
   "metadata": {},
   "outputs": [],
   "source": []
  }
 ],
 "metadata": {
  "kernelspec": {
   "display_name": "Python 3",
   "language": "python",
   "name": "python3"
  },
  "language_info": {
   "codemirror_mode": {
    "name": "ipython",
    "version": 3
   },
   "file_extension": ".py",
   "mimetype": "text/x-python",
   "name": "python",
   "nbconvert_exporter": "python",
   "pygments_lexer": "ipython3",
   "version": "3.9.0"
  }
 },
 "nbformat": 4,
 "nbformat_minor": 2
}
